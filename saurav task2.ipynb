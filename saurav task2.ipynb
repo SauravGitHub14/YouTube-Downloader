{
 "cells": [
  {
   "cell_type": "code",
   "execution_count": 131,
   "id": "b62162cb",
   "metadata": {},
   "outputs": [],
   "source": [
    "def VideoUrl():\n",
    "    downloadbartextlabel.configure(text=\"\")\n",
    "    downloadlabelresult.configure(text=\"\")\n",
    "    downloadsizelabelresult.configure(text=\"\")\n",
    "    downloadtimeleft.configure(text=\"\")\n",
    "    getdetail=threading.Thread(target=getvideo)\n",
    "    getdetail.start()\n",
    "    "
   ]
  },
  {
   "cell_type": "code",
   "execution_count": 132,
   "id": "89c043b1",
   "metadata": {},
   "outputs": [],
   "source": [
    "def getvideo():\n",
    "    global streams\n",
    "    ListBox.delete(0,END)\n",
    "    url=urltext.get()\n",
    "    data = pafy.new(url)\n",
    "    streams = data.allstreams\n",
    "    index=0\n",
    "    for i in streams:\n",
    "        du='{:0.1f}'.format(i.get_filesize()//(1024*1024))\n",
    "        datas=str(index) + '.'.ljust(3,' ')+str(i.quality).ljust(12,' ')+ str(i.extension).ljust(10,' ')+ str(i.mediatype) + ' ' + du.rjust(10,' ') + \"MB\"\n",
    "        ListBox.insert(END,datas) \n",
    "        index += 1"
   ]
  },
  {
   "cell_type": "code",
   "execution_count": 133,
   "id": "e013e126",
   "metadata": {},
   "outputs": [],
   "source": [
    "def SelectCursor(evt):\n",
    "    global downloadindex\n",
    "    listboxdata= ListBox.get(ListBox.curselection())\n",
    "    print(listboxdata)\n",
    "    downloadstream=listboxdata[:3]\n",
    "    downloadindex=int(''.join(x for x in downloadstream if x.isdigit()))\n",
    "    "
   ]
  },
  {
   "cell_type": "code",
   "execution_count": 134,
   "id": "533c59c5",
   "metadata": {},
   "outputs": [],
   "source": [
    "def DownloadVideo():\n",
    "    getdata=threading.Thread(target=downloadvdata)\n",
    "    getdata.start()\n",
    "    "
   ]
  },
  {
   "cell_type": "code",
   "execution_count": 135,
   "id": "003fe4f2",
   "metadata": {},
   "outputs": [],
   "source": [
    "def downloadvdata():\n",
    "    global downloadindex\n",
    "    fgr= filedialog.askdirectory()\n",
    "    downloadbartextlabel.configure(text=\"Downloading...\")\n",
    "    \n",
    "    def mycallback(total, recvd, ratio, rate, eta):\n",
    "        global total12\n",
    "        total12 = float('{:.5}'.format(total/(1024*1024)))\n",
    "        downloadprogress.configure(maximum=total12)\n",
    "        recieved1 = '{:.5} mb'.format(recvd / (1024 * 1024))\n",
    "        eta1 = '{:.2f} sec'.format(eta)\n",
    "        downloadsizelabelresult.configure(text=total12)\n",
    "        downloadlabelresult.configure(text=recieved1)\n",
    "        downloadtimeleft.configure(text=eta1)\n",
    "        downloadprogress['value'] = recvd/(1024*1024)\n",
    "    \n",
    "    streams[downloadindex].download(filepath=fgr,quiet=True,callback=mycallback)\n",
    "    downloadbartextlabel.configure(text=\"Downloaded\")"
   ]
  },
  {
   "cell_type": "code",
   "execution_count": 136,
   "id": "ba1d17ae",
   "metadata": {},
   "outputs": [],
   "source": [
    "from tkinter import *\n",
    "from tkinter import filedialog\n",
    "from tkinter.ttk import Progressbar\n",
    "import threading\n",
    "import pafy\n"
   ]
  },
  {
   "cell_type": "code",
   "execution_count": 137,
   "id": "690ae1c1",
   "metadata": {},
   "outputs": [],
   "source": [
    "root=Tk()\n",
    "root.title('YOUTUBE')\n",
    "root.geometry('650x700')\n",
    "root.configure(bg='sky blue')\n",
    "root.attributes()\n",
    "root.resizable(False,False)\n",
    "\n",
    "downloadindex = 0\n",
    "total12 = 0\n",
    "streams = \"\""
   ]
  },
  {
   "cell_type": "code",
   "execution_count": 138,
   "id": "098ccec7",
   "metadata": {},
   "outputs": [],
   "source": [
    "#scrollbar\n",
    "scrollbar=Scrollbar(root)\n",
    "scrollbar.place(x=305,y=200,height=195,width=20)"
   ]
  },
  {
   "cell_type": "code",
   "execution_count": 139,
   "id": "81911f5a",
   "metadata": {},
   "outputs": [],
   "source": [
    "urltext=StringVar()\n",
    "UrlEntry= Entry(root,textvariable=urltext, font=('arial',20,'italic bold'),width=21)\n",
    "UrlEntry.place(x=20,y=150)"
   ]
  },
  {
   "cell_type": "code",
   "execution_count": 140,
   "id": "3f38b9c0",
   "metadata": {},
   "outputs": [],
   "source": [
    "#labels\n",
    "introlabel= Label(root,text='Youtube Downloader',width=20,relief='ridge',bd=4,font=('Bernard',24,'bold'),fg='red')\n",
    "introlabel.place(x=110,y=20)"
   ]
  },
  {
   "cell_type": "code",
   "execution_count": 141,
   "id": "2761a6cc",
   "metadata": {},
   "outputs": [
    {
     "data": {
      "text/plain": [
       "'1360841919616SelectCursor'"
      ]
     },
     "execution_count": 141,
     "metadata": {},
     "output_type": "execute_result"
    }
   ],
   "source": [
    "ListBox= Listbox(root,yscrollcommand=scrollbar.set,width=31,height=10,font=('arial',12,'italic bold'),relief='ridge',bd=2,highlightcolor='red',highlightbackground='orange',highlightthickness=2)\n",
    "ListBox.place(x=20,y=200)\n",
    "ListBox.bind(\"<<ListboxSelect>>\",SelectCursor)\n"
   ]
  },
  {
   "cell_type": "code",
   "execution_count": 142,
   "id": "b1a9ed05",
   "metadata": {},
   "outputs": [],
   "source": [
    "downloadtime= Label(root,text='Time Left :',font=('arial',15,'italic bold'),bg='sky blue',fg='red')\n",
    "downloadtime.place(x=325,y=300)"
   ]
  },
  {
   "cell_type": "code",
   "execution_count": 143,
   "id": "8addbb25",
   "metadata": {},
   "outputs": [],
   "source": [
    "downloadtimeleft= Label(root,text=' ',font=('arial',15,'italic bold'),bg='sky blue',fg='red')\n",
    "downloadtimeleft.place(x=475,y=300)"
   ]
  },
  {
   "cell_type": "code",
   "execution_count": 144,
   "id": "3a73360b",
   "metadata": {},
   "outputs": [],
   "source": [
    "downloadbartextlabel= Label(root,text='Press Download Button To Start',width=26,font=('arial',10,'italic bold'),fg='red',bg='sky blue')\n",
    "downloadbartextlabel.place(x=295,y=415)"
   ]
  },
  {
   "cell_type": "code",
   "execution_count": 145,
   "id": "51eeb537",
   "metadata": {},
   "outputs": [],
   "source": [
    "dowlnloadprogresslabel=Label(root,text='',width=26,font=('arial',13,'italic bold'),fg='red',bg='sky blue',relief='raised')\n",
    "dowlnloadprogresslabel.place(x=20,y=405)"
   ]
  },
  {
   "cell_type": "code",
   "execution_count": 146,
   "id": "3ca2483d",
   "metadata": {},
   "outputs": [],
   "source": [
    "downloadprogress=Progressbar(dowlnloadprogresslabel,orient= HORIZONTAL,value=0,length=100)\n",
    "downloadprogress.grid(row=0,column=0,ipadx=85,ipady=3)"
   ]
  },
  {
   "cell_type": "code",
   "execution_count": 147,
   "id": "6db95c76",
   "metadata": {},
   "outputs": [],
   "source": [
    "ClickButton=Button(root,text='Submit Url',font=('Arial',10,'italic bold'),bg='grey',fg='white',activebackground='olivedrab1',width=10,bd=8,command=VideoUrl)\n",
    "ClickButton.place(x=400,y=150)"
   ]
  },
  {
   "cell_type": "code",
   "execution_count": 148,
   "id": "aaa16f91",
   "metadata": {},
   "outputs": [],
   "source": [
    "DownloadButton= Button(root,text='Download',font=('Arial',10,'italic bold'),bg='red',fg='white',activebackground='olivedrab1',width=10,bd=8,command=DownloadVideo)\n",
    "DownloadButton.place(x=400,y=370)"
   ]
  },
  {
   "cell_type": "code",
   "execution_count": 149,
   "id": "0f29c231",
   "metadata": {},
   "outputs": [
    {
     "name": "stderr",
     "output_type": "stream",
     "text": [
      "Exception in Tkinter callback\n",
      "Traceback (most recent call last):\n",
      "  File \"C:\\Users\\Lenovo\\anaconda3\\lib\\tkinter\\__init__.py\", line 1892, in __call__\n",
      "    return self.func(*args)\n",
      "  File \"C:\\Users\\Lenovo\\AppData\\Local\\Temp/ipykernel_6916/3195692232.py\", line 3, in VideoUrl\n",
      "    downloadlabelresult.configure(text=\"\")\n",
      "  File \"C:\\Users\\Lenovo\\anaconda3\\lib\\tkinter\\__init__.py\", line 1646, in configure\n",
      "    return self._configure('configure', cnf, kw)\n",
      "  File \"C:\\Users\\Lenovo\\anaconda3\\lib\\tkinter\\__init__.py\", line 1636, in _configure\n",
      "    self.tk.call(_flatten((self._w, cmd)) + self._options(cnf))\n",
      "_tkinter.TclError: invalid command name \".!label6\"\n"
     ]
    }
   ],
   "source": [
    "root.mainloop()"
   ]
  },
  {
   "cell_type": "code",
   "execution_count": null,
   "id": "8ac82612",
   "metadata": {},
   "outputs": [],
   "source": []
  }
 ],
 "metadata": {
  "kernelspec": {
   "display_name": "Python 3 (ipykernel)",
   "language": "python",
   "name": "python3"
  },
  "language_info": {
   "codemirror_mode": {
    "name": "ipython",
    "version": 3
   },
   "file_extension": ".py",
   "mimetype": "text/x-python",
   "name": "python",
   "nbconvert_exporter": "python",
   "pygments_lexer": "ipython3",
   "version": "3.9.7"
  }
 },
 "nbformat": 4,
 "nbformat_minor": 5
}
